{
 "cells": [
  {
   "cell_type": "code",
   "execution_count": 1,
   "id": "e6606b40-7ec9-4db6-a881-22b932d4b133",
   "metadata": {},
   "outputs": [],
   "source": [
    "import pandas as pd\n",
    "import joblib\n",
    "\n",
    "def predict_churn(new_data_dict):\n",
    "    # Load trained model\n",
    "    model = joblib.load('../models/random_forest_model.pkl')\n",
    "\n",
    "    # Load original dataset for reference columns\n",
    "    df = pd.read_csv('../data/WA_Fn-UseC_-Telco-Customer-Churn.csv')\n",
    "    df = df.drop('customerID', axis=1)\n",
    "    df['TotalCharges'] = pd.to_numeric(df['TotalCharges'], errors='coerce')\n",
    "    df = df.dropna()\n",
    "\n",
    "    # Encode binary columns\n",
    "    binary_cols = ['gender', 'Partner', 'Dependents', 'PhoneService',\n",
    "                   'PaperlessBilling', 'Churn']\n",
    "    for col in binary_cols:\n",
    "        df[col] = df[col].replace({'Yes': 1, 'No': 0, 'Male': 1, 'Female': 0})\n",
    "\n",
    "    # One-hot encode categorical columns\n",
    "    categorical_cols = ['MultipleLines', 'InternetService', 'OnlineSecurity',\n",
    "                        'OnlineBackup', 'DeviceProtection', 'TechSupport',\n",
    "                        'StreamingTV', 'StreamingMovies', 'Contract',\n",
    "                        'PaymentMethod']\n",
    "    df = pd.get_dummies(df, columns=categorical_cols, drop_first=True)\n",
    "\n",
    "    # Process new customer data\n",
    "    new_df = pd.DataFrame([new_data_dict])\n",
    "    new_df = pd.get_dummies(new_df, columns=categorical_cols, drop_first=True)\n",
    "\n",
    "    # Align new_df with training columns\n",
    "    new_df = new_df.reindex(columns=df.drop('Churn', axis=1).columns, fill_value=0)\n",
    "\n",
    "    # Predict\n",
    "    pred = model.predict(new_df)[0]\n",
    "    return \"Churn Likely\" if pred == 1 else \"Not Likely to Churn\"\n"
   ]
  },
  {
   "cell_type": "code",
   "execution_count": 2,
   "id": "f26a643a-2dc8-4805-b23b-05342110b576",
   "metadata": {},
   "outputs": [
    {
     "name": "stderr",
     "output_type": "stream",
     "text": [
      "C:\\Users\\user\\AppData\\Local\\Temp\\ipykernel_8620\\2266541584.py:18: FutureWarning: Downcasting behavior in `replace` is deprecated and will be removed in a future version. To retain the old behavior, explicitly call `result.infer_objects(copy=False)`. To opt-in to the future behavior, set `pd.set_option('future.no_silent_downcasting', True)`\n",
      "  df[col] = df[col].replace({'Yes': 1, 'No': 0, 'Male': 1, 'Female': 0})\n"
     ]
    },
    {
     "data": {
      "text/plain": [
       "'Not Likely to Churn'"
      ]
     },
     "execution_count": 2,
     "metadata": {},
     "output_type": "execute_result"
    }
   ],
   "source": [
    "new_customer = {\n",
    "    'gender': 1,\n",
    "    'SeniorCitizen': 0,\n",
    "    'Partner': 1,\n",
    "    'Dependents': 0,\n",
    "    'tenure': 5,\n",
    "    'PhoneService': 1,\n",
    "    'PaperlessBilling': 1,\n",
    "    'MonthlyCharges': 75.5,\n",
    "    'TotalCharges': 350.0,\n",
    "    'MultipleLines': 'No phone service',\n",
    "    'InternetService': 'Fiber optic',\n",
    "    'OnlineSecurity': 'No',\n",
    "    'OnlineBackup': 'No',\n",
    "    'DeviceProtection': 'Yes',\n",
    "    'TechSupport': 'No',\n",
    "    'StreamingTV': 'Yes',\n",
    "    'StreamingMovies': 'Yes',\n",
    "    'Contract': 'Month-to-month',\n",
    "    'PaymentMethod': 'Electronic check'\n",
    "}\n",
    "\n",
    "predict_churn(new_customer)\n"
   ]
  },
  {
   "cell_type": "code",
   "execution_count": null,
   "id": "d9720af8-4380-4c70-812e-f52fff381cf5",
   "metadata": {},
   "outputs": [],
   "source": []
  }
 ],
 "metadata": {
  "kernelspec": {
   "display_name": "Python 3 (ipykernel)",
   "language": "python",
   "name": "python3"
  },
  "language_info": {
   "codemirror_mode": {
    "name": "ipython",
    "version": 3
   },
   "file_extension": ".py",
   "mimetype": "text/x-python",
   "name": "python",
   "nbconvert_exporter": "python",
   "pygments_lexer": "ipython3",
   "version": "3.13.5"
  }
 },
 "nbformat": 4,
 "nbformat_minor": 5
}
