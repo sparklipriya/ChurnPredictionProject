{
 "cells": [
  {
   "cell_type": "code",
   "execution_count": 30,
   "id": "2470f58a-7938-498f-9a00-602c0f1380cd",
   "metadata": {},
   "outputs": [
    {
     "data": {
      "text/html": [
       "<div>\n",
       "<style scoped>\n",
       "    .dataframe tbody tr th:only-of-type {\n",
       "        vertical-align: middle;\n",
       "    }\n",
       "\n",
       "    .dataframe tbody tr th {\n",
       "        vertical-align: top;\n",
       "    }\n",
       "\n",
       "    .dataframe thead th {\n",
       "        text-align: right;\n",
       "    }\n",
       "</style>\n",
       "<table border=\"1\" class=\"dataframe\">\n",
       "  <thead>\n",
       "    <tr style=\"text-align: right;\">\n",
       "      <th></th>\n",
       "      <th>customerID</th>\n",
       "      <th>gender</th>\n",
       "      <th>SeniorCitizen</th>\n",
       "      <th>Partner</th>\n",
       "      <th>Dependents</th>\n",
       "      <th>tenure</th>\n",
       "      <th>PhoneService</th>\n",
       "      <th>MultipleLines</th>\n",
       "      <th>InternetService</th>\n",
       "      <th>OnlineSecurity</th>\n",
       "      <th>...</th>\n",
       "      <th>DeviceProtection</th>\n",
       "      <th>TechSupport</th>\n",
       "      <th>StreamingTV</th>\n",
       "      <th>StreamingMovies</th>\n",
       "      <th>Contract</th>\n",
       "      <th>PaperlessBilling</th>\n",
       "      <th>PaymentMethod</th>\n",
       "      <th>MonthlyCharges</th>\n",
       "      <th>TotalCharges</th>\n",
       "      <th>Churn</th>\n",
       "    </tr>\n",
       "  </thead>\n",
       "  <tbody>\n",
       "    <tr>\n",
       "      <th>0</th>\n",
       "      <td>7590-VHVEG</td>\n",
       "      <td>Female</td>\n",
       "      <td>0</td>\n",
       "      <td>Yes</td>\n",
       "      <td>No</td>\n",
       "      <td>1</td>\n",
       "      <td>No</td>\n",
       "      <td>No phone service</td>\n",
       "      <td>DSL</td>\n",
       "      <td>No</td>\n",
       "      <td>...</td>\n",
       "      <td>No</td>\n",
       "      <td>No</td>\n",
       "      <td>No</td>\n",
       "      <td>No</td>\n",
       "      <td>Month-to-month</td>\n",
       "      <td>Yes</td>\n",
       "      <td>Electronic check</td>\n",
       "      <td>29.85</td>\n",
       "      <td>29.85</td>\n",
       "      <td>No</td>\n",
       "    </tr>\n",
       "    <tr>\n",
       "      <th>1</th>\n",
       "      <td>5575-GNVDE</td>\n",
       "      <td>Male</td>\n",
       "      <td>0</td>\n",
       "      <td>No</td>\n",
       "      <td>No</td>\n",
       "      <td>34</td>\n",
       "      <td>Yes</td>\n",
       "      <td>No</td>\n",
       "      <td>DSL</td>\n",
       "      <td>Yes</td>\n",
       "      <td>...</td>\n",
       "      <td>Yes</td>\n",
       "      <td>No</td>\n",
       "      <td>No</td>\n",
       "      <td>No</td>\n",
       "      <td>One year</td>\n",
       "      <td>No</td>\n",
       "      <td>Mailed check</td>\n",
       "      <td>56.95</td>\n",
       "      <td>1889.5</td>\n",
       "      <td>No</td>\n",
       "    </tr>\n",
       "    <tr>\n",
       "      <th>2</th>\n",
       "      <td>3668-QPYBK</td>\n",
       "      <td>Male</td>\n",
       "      <td>0</td>\n",
       "      <td>No</td>\n",
       "      <td>No</td>\n",
       "      <td>2</td>\n",
       "      <td>Yes</td>\n",
       "      <td>No</td>\n",
       "      <td>DSL</td>\n",
       "      <td>Yes</td>\n",
       "      <td>...</td>\n",
       "      <td>No</td>\n",
       "      <td>No</td>\n",
       "      <td>No</td>\n",
       "      <td>No</td>\n",
       "      <td>Month-to-month</td>\n",
       "      <td>Yes</td>\n",
       "      <td>Mailed check</td>\n",
       "      <td>53.85</td>\n",
       "      <td>108.15</td>\n",
       "      <td>Yes</td>\n",
       "    </tr>\n",
       "    <tr>\n",
       "      <th>3</th>\n",
       "      <td>7795-CFOCW</td>\n",
       "      <td>Male</td>\n",
       "      <td>0</td>\n",
       "      <td>No</td>\n",
       "      <td>No</td>\n",
       "      <td>45</td>\n",
       "      <td>No</td>\n",
       "      <td>No phone service</td>\n",
       "      <td>DSL</td>\n",
       "      <td>Yes</td>\n",
       "      <td>...</td>\n",
       "      <td>Yes</td>\n",
       "      <td>Yes</td>\n",
       "      <td>No</td>\n",
       "      <td>No</td>\n",
       "      <td>One year</td>\n",
       "      <td>No</td>\n",
       "      <td>Bank transfer (automatic)</td>\n",
       "      <td>42.30</td>\n",
       "      <td>1840.75</td>\n",
       "      <td>No</td>\n",
       "    </tr>\n",
       "    <tr>\n",
       "      <th>4</th>\n",
       "      <td>9237-HQITU</td>\n",
       "      <td>Female</td>\n",
       "      <td>0</td>\n",
       "      <td>No</td>\n",
       "      <td>No</td>\n",
       "      <td>2</td>\n",
       "      <td>Yes</td>\n",
       "      <td>No</td>\n",
       "      <td>Fiber optic</td>\n",
       "      <td>No</td>\n",
       "      <td>...</td>\n",
       "      <td>No</td>\n",
       "      <td>No</td>\n",
       "      <td>No</td>\n",
       "      <td>No</td>\n",
       "      <td>Month-to-month</td>\n",
       "      <td>Yes</td>\n",
       "      <td>Electronic check</td>\n",
       "      <td>70.70</td>\n",
       "      <td>151.65</td>\n",
       "      <td>Yes</td>\n",
       "    </tr>\n",
       "  </tbody>\n",
       "</table>\n",
       "<p>5 rows × 21 columns</p>\n",
       "</div>"
      ],
      "text/plain": [
       "   customerID  gender  SeniorCitizen Partner Dependents  tenure PhoneService  \\\n",
       "0  7590-VHVEG  Female              0     Yes         No       1           No   \n",
       "1  5575-GNVDE    Male              0      No         No      34          Yes   \n",
       "2  3668-QPYBK    Male              0      No         No       2          Yes   \n",
       "3  7795-CFOCW    Male              0      No         No      45           No   \n",
       "4  9237-HQITU  Female              0      No         No       2          Yes   \n",
       "\n",
       "      MultipleLines InternetService OnlineSecurity  ... DeviceProtection  \\\n",
       "0  No phone service             DSL             No  ...               No   \n",
       "1                No             DSL            Yes  ...              Yes   \n",
       "2                No             DSL            Yes  ...               No   \n",
       "3  No phone service             DSL            Yes  ...              Yes   \n",
       "4                No     Fiber optic             No  ...               No   \n",
       "\n",
       "  TechSupport StreamingTV StreamingMovies        Contract PaperlessBilling  \\\n",
       "0          No          No              No  Month-to-month              Yes   \n",
       "1          No          No              No        One year               No   \n",
       "2          No          No              No  Month-to-month              Yes   \n",
       "3         Yes          No              No        One year               No   \n",
       "4          No          No              No  Month-to-month              Yes   \n",
       "\n",
       "               PaymentMethod MonthlyCharges  TotalCharges Churn  \n",
       "0           Electronic check          29.85         29.85    No  \n",
       "1               Mailed check          56.95        1889.5    No  \n",
       "2               Mailed check          53.85        108.15   Yes  \n",
       "3  Bank transfer (automatic)          42.30       1840.75    No  \n",
       "4           Electronic check          70.70        151.65   Yes  \n",
       "\n",
       "[5 rows x 21 columns]"
      ]
     },
     "execution_count": 30,
     "metadata": {},
     "output_type": "execute_result"
    }
   ],
   "source": [
    "import pandas as pd\n",
    "\n",
    "# Load the dataset\n",
    "df = pd.read_csv('../data/WA_Fn-UseC_-Telco-Customer-Churn.csv')\n",
    "\n",
    "# Show the first 5 rows\n",
    "df.head()\n"
   ]
  },
  {
   "cell_type": "code",
   "execution_count": 31,
   "id": "c36aa371-c970-4b77-aa3f-c0ae7ff3d573",
   "metadata": {},
   "outputs": [
    {
     "name": "stdout",
     "output_type": "stream",
     "text": [
      "<class 'pandas.core.frame.DataFrame'>\n",
      "RangeIndex: 42258 entries, 0 to 42257\n",
      "Data columns (total 21 columns):\n",
      " #   Column            Non-Null Count  Dtype  \n",
      "---  ------            --------------  -----  \n",
      " 0   customerID        42258 non-null  object \n",
      " 1   gender            42258 non-null  object \n",
      " 2   SeniorCitizen     42258 non-null  int64  \n",
      " 3   Partner           42258 non-null  object \n",
      " 4   Dependents        42258 non-null  object \n",
      " 5   tenure            42258 non-null  int64  \n",
      " 6   PhoneService      42258 non-null  object \n",
      " 7   MultipleLines     42258 non-null  object \n",
      " 8   InternetService   42258 non-null  object \n",
      " 9   OnlineSecurity    42258 non-null  object \n",
      " 10  OnlineBackup      42258 non-null  object \n",
      " 11  DeviceProtection  42258 non-null  object \n",
      " 12  TechSupport       42258 non-null  object \n",
      " 13  StreamingTV       42258 non-null  object \n",
      " 14  StreamingMovies   42258 non-null  object \n",
      " 15  Contract          42258 non-null  object \n",
      " 16  PaperlessBilling  42258 non-null  object \n",
      " 17  PaymentMethod     42258 non-null  object \n",
      " 18  MonthlyCharges    42258 non-null  float64\n",
      " 19  TotalCharges      42258 non-null  object \n",
      " 20  Churn             42258 non-null  object \n",
      "dtypes: float64(1), int64(2), object(18)\n",
      "memory usage: 6.8+ MB\n",
      "Index(['customerID', 'gender', 'SeniorCitizen', 'Partner', 'Dependents',\n",
      "       'tenure', 'PhoneService', 'MultipleLines', 'InternetService',\n",
      "       'OnlineSecurity', 'OnlineBackup', 'DeviceProtection', 'TechSupport',\n",
      "       'StreamingTV', 'StreamingMovies', 'Contract', 'PaperlessBilling',\n",
      "       'PaymentMethod', 'MonthlyCharges', 'TotalCharges', 'Churn'],\n",
      "      dtype='object')\n"
     ]
    },
    {
     "data": {
      "text/html": [
       "<div>\n",
       "<style scoped>\n",
       "    .dataframe tbody tr th:only-of-type {\n",
       "        vertical-align: middle;\n",
       "    }\n",
       "\n",
       "    .dataframe tbody tr th {\n",
       "        vertical-align: top;\n",
       "    }\n",
       "\n",
       "    .dataframe thead th {\n",
       "        text-align: right;\n",
       "    }\n",
       "</style>\n",
       "<table border=\"1\" class=\"dataframe\">\n",
       "  <thead>\n",
       "    <tr style=\"text-align: right;\">\n",
       "      <th></th>\n",
       "      <th>SeniorCitizen</th>\n",
       "      <th>tenure</th>\n",
       "      <th>MonthlyCharges</th>\n",
       "    </tr>\n",
       "  </thead>\n",
       "  <tbody>\n",
       "    <tr>\n",
       "      <th>count</th>\n",
       "      <td>42258.000000</td>\n",
       "      <td>42258.000000</td>\n",
       "      <td>42258.000000</td>\n",
       "    </tr>\n",
       "    <tr>\n",
       "      <th>mean</th>\n",
       "      <td>0.162147</td>\n",
       "      <td>32.371149</td>\n",
       "      <td>64.761692</td>\n",
       "    </tr>\n",
       "    <tr>\n",
       "      <th>std</th>\n",
       "      <td>0.368590</td>\n",
       "      <td>24.558028</td>\n",
       "      <td>30.088267</td>\n",
       "    </tr>\n",
       "    <tr>\n",
       "      <th>min</th>\n",
       "      <td>0.000000</td>\n",
       "      <td>0.000000</td>\n",
       "      <td>18.250000</td>\n",
       "    </tr>\n",
       "    <tr>\n",
       "      <th>25%</th>\n",
       "      <td>0.000000</td>\n",
       "      <td>9.000000</td>\n",
       "      <td>35.500000</td>\n",
       "    </tr>\n",
       "    <tr>\n",
       "      <th>50%</th>\n",
       "      <td>0.000000</td>\n",
       "      <td>29.000000</td>\n",
       "      <td>70.350000</td>\n",
       "    </tr>\n",
       "    <tr>\n",
       "      <th>75%</th>\n",
       "      <td>0.000000</td>\n",
       "      <td>55.000000</td>\n",
       "      <td>89.850000</td>\n",
       "    </tr>\n",
       "    <tr>\n",
       "      <th>max</th>\n",
       "      <td>1.000000</td>\n",
       "      <td>72.000000</td>\n",
       "      <td>118.750000</td>\n",
       "    </tr>\n",
       "  </tbody>\n",
       "</table>\n",
       "</div>"
      ],
      "text/plain": [
       "       SeniorCitizen        tenure  MonthlyCharges\n",
       "count   42258.000000  42258.000000    42258.000000\n",
       "mean        0.162147     32.371149       64.761692\n",
       "std         0.368590     24.558028       30.088267\n",
       "min         0.000000      0.000000       18.250000\n",
       "25%         0.000000      9.000000       35.500000\n",
       "50%         0.000000     29.000000       70.350000\n",
       "75%         0.000000     55.000000       89.850000\n",
       "max         1.000000     72.000000      118.750000"
      ]
     },
     "execution_count": 31,
     "metadata": {},
     "output_type": "execute_result"
    }
   ],
   "source": [
    "# Get basic info\n",
    "df.info()\n",
    "\n",
    "# Check column names and data types\n",
    "print(df.columns)\n",
    "\n",
    "# See how many null values\n",
    "df.isnull().sum()\n",
    "\n",
    "# Get summary stats for numeric columns\n",
    "df.describe()\n"
   ]
  },
  {
   "cell_type": "code",
   "execution_count": 32,
   "id": "d2301637-d6dc-4957-ae95-28a0515afe76",
   "metadata": {},
   "outputs": [
    {
     "name": "stdout",
     "output_type": "stream",
     "text": [
      "Data type: object\n",
      "Rows with invalid TotalCharges:\n",
      "       customerID  tenure  MonthlyCharges TotalCharges\n",
      "488    4472-LVYGI       0           52.55             \n",
      "753    3115-CZMZD       0           20.25             \n",
      "936    5709-LVOEQ       0           80.85             \n",
      "1082   4367-NUYAO       0           25.75             \n",
      "1340   1371-DWPAZ       0           56.05             \n",
      "...           ...     ...             ...          ...\n",
      "39041  3213-VVOLG       0           25.35             \n",
      "39595  2520-SGTTA       0           20.00             \n",
      "40433  2923-ARZLG       0           19.70             \n",
      "41885  4075-WKNIU       0           73.35             \n",
      "41969  2775-SEFEE       0           61.90             \n",
      "\n",
      "[66 rows x 4 columns]\n"
     ]
    }
   ],
   "source": [
    "# See data type of TotalCharges\n",
    "print(\"Data type:\", df['TotalCharges'].dtype)\n",
    "\n",
    "# Show rows where TotalCharges is not a number (i.e., blank or invalid)\n",
    "invalid = df[pd.to_numeric(df['TotalCharges'], errors='coerce').isnull()]\n",
    "print(\"Rows with invalid TotalCharges:\")\n",
    "print(invalid[['customerID', 'tenure', 'MonthlyCharges', 'TotalCharges']])\n"
   ]
  },
  {
   "cell_type": "code",
   "execution_count": 33,
   "id": "88cd6725-b6b1-408c-8533-4e51830481e4",
   "metadata": {},
   "outputs": [
    {
     "name": "stdout",
     "output_type": "stream",
     "text": [
      "<class 'pandas.core.frame.DataFrame'>\n",
      "Index: 42192 entries, 0 to 42257\n",
      "Data columns (total 21 columns):\n",
      " #   Column            Non-Null Count  Dtype  \n",
      "---  ------            --------------  -----  \n",
      " 0   customerID        42192 non-null  object \n",
      " 1   gender            42192 non-null  object \n",
      " 2   SeniorCitizen     42192 non-null  int64  \n",
      " 3   Partner           42192 non-null  object \n",
      " 4   Dependents        42192 non-null  object \n",
      " 5   tenure            42192 non-null  int64  \n",
      " 6   PhoneService      42192 non-null  object \n",
      " 7   MultipleLines     42192 non-null  object \n",
      " 8   InternetService   42192 non-null  object \n",
      " 9   OnlineSecurity    42192 non-null  object \n",
      " 10  OnlineBackup      42192 non-null  object \n",
      " 11  DeviceProtection  42192 non-null  object \n",
      " 12  TechSupport       42192 non-null  object \n",
      " 13  StreamingTV       42192 non-null  object \n",
      " 14  StreamingMovies   42192 non-null  object \n",
      " 15  Contract          42192 non-null  object \n",
      " 16  PaperlessBilling  42192 non-null  object \n",
      " 17  PaymentMethod     42192 non-null  object \n",
      " 18  MonthlyCharges    42192 non-null  float64\n",
      " 19  TotalCharges      42192 non-null  float64\n",
      " 20  Churn             42192 non-null  object \n",
      "dtypes: float64(2), int64(2), object(17)\n",
      "memory usage: 7.1+ MB\n"
     ]
    }
   ],
   "source": [
    "# Convert TotalCharges to numeric and drop rows where conversion failed\n",
    "df['TotalCharges'] = pd.to_numeric(df['TotalCharges'], errors='coerce')\n",
    "\n",
    "# Drop rows with null TotalCharges\n",
    "df = df.dropna(subset=['TotalCharges'])\n",
    "\n",
    "# Confirm changes\n",
    "df.info()\n"
   ]
  },
  {
   "cell_type": "code",
   "execution_count": 34,
   "id": "8a87cb2e-d94c-42d8-82d8-57965cd7a454",
   "metadata": {},
   "outputs": [
    {
     "data": {
      "text/plain": [
       "customerID          0\n",
       "gender              0\n",
       "SeniorCitizen       0\n",
       "Partner             0\n",
       "Dependents          0\n",
       "tenure              0\n",
       "PhoneService        0\n",
       "MultipleLines       0\n",
       "InternetService     0\n",
       "OnlineSecurity      0\n",
       "OnlineBackup        0\n",
       "DeviceProtection    0\n",
       "TechSupport         0\n",
       "StreamingTV         0\n",
       "StreamingMovies     0\n",
       "Contract            0\n",
       "PaperlessBilling    0\n",
       "PaymentMethod       0\n",
       "MonthlyCharges      0\n",
       "TotalCharges        0\n",
       "Churn               0\n",
       "dtype: int64"
      ]
     },
     "execution_count": 34,
     "metadata": {},
     "output_type": "execute_result"
    }
   ],
   "source": [
    "df.isnull().sum()\n"
   ]
  },
  {
   "cell_type": "code",
   "execution_count": 35,
   "id": "e408817a-7b8b-4fc2-bf3e-2ceeeb9ad85b",
   "metadata": {},
   "outputs": [],
   "source": [
    "df = df.drop('customerID', axis=1)\n"
   ]
  },
  {
   "cell_type": "code",
   "execution_count": 36,
   "id": "414e0af8-843d-487d-a293-e00a26052e80",
   "metadata": {},
   "outputs": [],
   "source": [
    "binary_cols = ['gender', 'Partner', 'Dependents', 'PhoneService',\n",
    "               'PaperlessBilling', 'Churn']\n"
   ]
  },
  {
   "cell_type": "code",
   "execution_count": 37,
   "id": "8636c6f3-95b6-424d-bc09-fea65695a244",
   "metadata": {},
   "outputs": [
    {
     "name": "stderr",
     "output_type": "stream",
     "text": [
      "C:\\Users\\user\\AppData\\Local\\Temp\\ipykernel_8952\\2946260329.py:2: FutureWarning: Downcasting behavior in `replace` is deprecated and will be removed in a future version. To retain the old behavior, explicitly call `result.infer_objects(copy=False)`. To opt-in to the future behavior, set `pd.set_option('future.no_silent_downcasting', True)`\n",
      "  df[col] = df[col].replace({'Yes': 1, 'No': 0, 'Male': 1, 'Female': 0})\n"
     ]
    }
   ],
   "source": [
    "for col in binary_cols:\n",
    "    df[col] = df[col].replace({'Yes': 1, 'No': 0, 'Male': 1, 'Female': 0})\n"
   ]
  },
  {
   "cell_type": "code",
   "execution_count": 38,
   "id": "7f2afe29-286f-4d5c-8ff2-1f91006209de",
   "metadata": {},
   "outputs": [],
   "source": [
    "categorical_cols = ['MultipleLines', 'InternetService', 'OnlineSecurity',\n",
    "                    'OnlineBackup', 'DeviceProtection', 'TechSupport',\n",
    "                    'StreamingTV', 'StreamingMovies', 'Contract',\n",
    "                    'PaymentMethod']\n"
   ]
  },
  {
   "cell_type": "code",
   "execution_count": 39,
   "id": "23589931-683f-450e-9407-f931bf6206a6",
   "metadata": {},
   "outputs": [],
   "source": [
    "df = pd.get_dummies(df, columns=categorical_cols, drop_first=True)\n"
   ]
  },
  {
   "cell_type": "code",
   "execution_count": 40,
   "id": "7a12d619-87ca-4336-97d2-84948351b77d",
   "metadata": {},
   "outputs": [
    {
     "name": "stdout",
     "output_type": "stream",
     "text": [
      "<class 'pandas.core.frame.DataFrame'>\n",
      "Index: 42192 entries, 0 to 42257\n",
      "Data columns (total 31 columns):\n",
      " #   Column                                 Non-Null Count  Dtype  \n",
      "---  ------                                 --------------  -----  \n",
      " 0   gender                                 42192 non-null  int64  \n",
      " 1   SeniorCitizen                          42192 non-null  int64  \n",
      " 2   Partner                                42192 non-null  int64  \n",
      " 3   Dependents                             42192 non-null  int64  \n",
      " 4   tenure                                 42192 non-null  int64  \n",
      " 5   PhoneService                           42192 non-null  int64  \n",
      " 6   PaperlessBilling                       42192 non-null  int64  \n",
      " 7   MonthlyCharges                         42192 non-null  float64\n",
      " 8   TotalCharges                           42192 non-null  float64\n",
      " 9   Churn                                  42192 non-null  int64  \n",
      " 10  MultipleLines_No phone service         42192 non-null  bool   \n",
      " 11  MultipleLines_Yes                      42192 non-null  bool   \n",
      " 12  InternetService_Fiber optic            42192 non-null  bool   \n",
      " 13  InternetService_No                     42192 non-null  bool   \n",
      " 14  OnlineSecurity_No internet service     42192 non-null  bool   \n",
      " 15  OnlineSecurity_Yes                     42192 non-null  bool   \n",
      " 16  OnlineBackup_No internet service       42192 non-null  bool   \n",
      " 17  OnlineBackup_Yes                       42192 non-null  bool   \n",
      " 18  DeviceProtection_No internet service   42192 non-null  bool   \n",
      " 19  DeviceProtection_Yes                   42192 non-null  bool   \n",
      " 20  TechSupport_No internet service        42192 non-null  bool   \n",
      " 21  TechSupport_Yes                        42192 non-null  bool   \n",
      " 22  StreamingTV_No internet service        42192 non-null  bool   \n",
      " 23  StreamingTV_Yes                        42192 non-null  bool   \n",
      " 24  StreamingMovies_No internet service    42192 non-null  bool   \n",
      " 25  StreamingMovies_Yes                    42192 non-null  bool   \n",
      " 26  Contract_One year                      42192 non-null  bool   \n",
      " 27  Contract_Two year                      42192 non-null  bool   \n",
      " 28  PaymentMethod_Credit card (automatic)  42192 non-null  bool   \n",
      " 29  PaymentMethod_Electronic check         42192 non-null  bool   \n",
      " 30  PaymentMethod_Mailed check             42192 non-null  bool   \n",
      "dtypes: bool(21), float64(2), int64(8)\n",
      "memory usage: 4.4 MB\n"
     ]
    }
   ],
   "source": [
    "df.head()\n",
    "df.info()\n"
   ]
  },
  {
   "cell_type": "code",
   "execution_count": 41,
   "id": "703f7fad-f98c-4e0a-b471-69e805c164f9",
   "metadata": {},
   "outputs": [],
   "source": [
    "from sklearn.model_selection import train_test_split\n",
    "from sklearn.linear_model import LogisticRegression\n",
    "from sklearn.tree import DecisionTreeClassifier\n",
    "from sklearn.ensemble import RandomForestClassifier\n",
    "from sklearn.metrics import accuracy_score, confusion_matrix, classification_report\n"
   ]
  },
  {
   "cell_type": "code",
   "execution_count": 42,
   "id": "60a75c20-6b52-4698-b631-963dbf4e3546",
   "metadata": {},
   "outputs": [],
   "source": [
    "X = df.drop('Churn', axis=1)\n",
    "y = df['Churn']\n"
   ]
  },
  {
   "cell_type": "code",
   "execution_count": 43,
   "id": "996556d6-fa2f-40b2-bf7c-168eb33ebbf5",
   "metadata": {},
   "outputs": [],
   "source": [
    "X_train, X_test, y_train, y_test = train_test_split(X, y, test_size=0.2, random_state=42)\n"
   ]
  },
  {
   "cell_type": "code",
   "execution_count": 44,
   "id": "02d5817b-b1c4-44f9-9fed-24e56c39a55e",
   "metadata": {},
   "outputs": [
    {
     "name": "stderr",
     "output_type": "stream",
     "text": [
      "X:\\Installation\\Lib\\site-packages\\sklearn\\linear_model\\_logistic.py:465: ConvergenceWarning: lbfgs failed to converge (status=1):\n",
      "STOP: TOTAL NO. OF ITERATIONS REACHED LIMIT.\n",
      "\n",
      "Increase the number of iterations (max_iter) or scale the data as shown in:\n",
      "    https://scikit-learn.org/stable/modules/preprocessing.html\n",
      "Please also refer to the documentation for alternative solver options:\n",
      "    https://scikit-learn.org/stable/modules/linear_model.html#logistic-regression\n",
      "  n_iter_i = _check_optimize_result(\n"
     ]
    }
   ],
   "source": [
    "log_model = LogisticRegression(max_iter=1000)\n",
    "log_model.fit(X_train, y_train)\n",
    "log_preds = log_model.predict(X_test)\n"
   ]
  },
  {
   "cell_type": "code",
   "execution_count": 45,
   "id": "2dba8274-b96c-4f2d-8479-63929255fcbf",
   "metadata": {},
   "outputs": [],
   "source": [
    "tree_model = DecisionTreeClassifier()\n",
    "tree_model.fit(X_train, y_train)\n",
    "tree_preds = tree_model.predict(X_test)\n"
   ]
  },
  {
   "cell_type": "code",
   "execution_count": 46,
   "id": "de7c855b-3e92-44a6-bd94-68082a9eaa1b",
   "metadata": {},
   "outputs": [],
   "source": [
    "rf_model = RandomForestClassifier()\n",
    "rf_model.fit(X_train, y_train)\n",
    "rf_preds = rf_model.predict(X_test)\n"
   ]
  },
  {
   "cell_type": "code",
   "execution_count": 47,
   "id": "4f5a7fa9-3dc0-4de2-85ac-0cc324328d02",
   "metadata": {},
   "outputs": [
    {
     "name": "stdout",
     "output_type": "stream",
     "text": [
      "\n",
      "🔹 Logistic Regression\n",
      "Accuracy: 0.804242208792511\n",
      "Confusion Matrix:\n",
      " [[5586  624]\n",
      " [1028 1201]]\n",
      "Classification Report:\n",
      "               precision    recall  f1-score   support\n",
      "\n",
      "           0       0.84      0.90      0.87      6210\n",
      "           1       0.66      0.54      0.59      2229\n",
      "\n",
      "    accuracy                           0.80      8439\n",
      "   macro avg       0.75      0.72      0.73      8439\n",
      "weighted avg       0.80      0.80      0.80      8439\n",
      "\n",
      "\n",
      "🔹 Decision Tree\n",
      "Accuracy: 0.9972745585969902\n",
      "Confusion Matrix:\n",
      " [[6202    8]\n",
      " [  15 2214]]\n",
      "Classification Report:\n",
      "               precision    recall  f1-score   support\n",
      "\n",
      "           0       1.00      1.00      1.00      6210\n",
      "           1       1.00      0.99      0.99      2229\n",
      "\n",
      "    accuracy                           1.00      8439\n",
      "   macro avg       1.00      1.00      1.00      8439\n",
      "weighted avg       1.00      1.00      1.00      8439\n",
      "\n",
      "\n",
      "🔹 Random Forest\n",
      "Accuracy: 0.9972745585969902\n",
      "Confusion Matrix:\n",
      " [[6199   11]\n",
      " [  12 2217]]\n",
      "Classification Report:\n",
      "               precision    recall  f1-score   support\n",
      "\n",
      "           0       1.00      1.00      1.00      6210\n",
      "           1       1.00      0.99      0.99      2229\n",
      "\n",
      "    accuracy                           1.00      8439\n",
      "   macro avg       1.00      1.00      1.00      8439\n",
      "weighted avg       1.00      1.00      1.00      8439\n",
      "\n"
     ]
    }
   ],
   "source": [
    "def evaluate_model(name, y_true, y_pred):\n",
    "    print(f\"\\n🔹 {name}\")\n",
    "    print(\"Accuracy:\", accuracy_score(y_true, y_pred))\n",
    "    print(\"Confusion Matrix:\\n\", confusion_matrix(y_true, y_pred))\n",
    "    print(\"Classification Report:\\n\", classification_report(y_true, y_pred))\n",
    "\n",
    "evaluate_model(\"Logistic Regression\", y_test, log_preds)\n",
    "evaluate_model(\"Decision Tree\", y_test, tree_preds)\n",
    "evaluate_model(\"Random Forest\", y_test, rf_preds)\n"
   ]
  },
  {
   "cell_type": "code",
   "execution_count": 48,
   "id": "5772ada9-0c33-4814-9234-1cbbde27191c",
   "metadata": {},
   "outputs": [
    {
     "name": "stdout",
     "output_type": "stream",
     "text": [
      "Requirement already satisfied: joblib in x:\\installation\\lib\\site-packages (1.4.2)\n"
     ]
    }
   ],
   "source": [
    "!pip install joblib\n"
   ]
  },
  {
   "cell_type": "code",
   "execution_count": 49,
   "id": "bbc3cc30-50c7-4457-a935-071c8bd91213",
   "metadata": {},
   "outputs": [
    {
     "data": {
      "text/plain": [
       "['../models/scaler.pkl']"
      ]
     },
     "execution_count": 49,
     "metadata": {},
     "output_type": "execute_result"
    }
   ],
   "source": [
    "import joblib\n",
    "\n",
    "# Save random forest model (you can change this to whichever is best for you)\n",
    "joblib.dump(rf_model, '../models/random_forest_model.pkl')\n",
    "\n",
    "# Save the scaler used for logistic regression\n",
    "joblib.dump(scaler, '../models/scaler.pkl')\n"
   ]
  },
  {
   "cell_type": "code",
   "execution_count": 50,
   "id": "8df4846f-053d-4caf-bc12-58e05db6c861",
   "metadata": {},
   "outputs": [],
   "source": [
    "from sklearn.preprocessing import StandardScaler\n",
    "\n",
    "scaler = StandardScaler()\n",
    "X_train_scaled = scaler.fit_transform(X_train)\n",
    "X_test_scaled = scaler.transform(X_test)\n"
   ]
  },
  {
   "cell_type": "code",
   "execution_count": 51,
   "id": "a594b62e-340d-402d-9f5b-80810458a3d5",
   "metadata": {},
   "outputs": [
    {
     "data": {
      "text/plain": [
       "['../models/scaler.pkl']"
      ]
     },
     "execution_count": 51,
     "metadata": {},
     "output_type": "execute_result"
    }
   ],
   "source": [
    "import joblib\n",
    "\n",
    "# Save random forest model (you can change this to whichever is best for you)\n",
    "joblib.dump(rf_model, '../models/random_forest_model.pkl')\n",
    "\n",
    "# Save the scaler used for logistic regression\n",
    "joblib.dump(scaler, '../models/scaler.pkl')\n"
   ]
  },
  {
   "cell_type": "code",
   "execution_count": 52,
   "id": "4f871982-7874-44ef-8e3f-85dd7399c905",
   "metadata": {},
   "outputs": [
    {
     "name": "stderr",
     "output_type": "stream",
     "text": [
      "X:\\Installation\\Lib\\site-packages\\sklearn\\utils\\validation.py:2739: UserWarning: X does not have valid feature names, but RandomForestClassifier was fitted with feature names\n",
      "  warnings.warn(\n"
     ]
    }
   ],
   "source": [
    "# Load model and scaler\n",
    "loaded_model = joblib.load('../models/random_forest_model.pkl')\n",
    "loaded_scaler = joblib.load('../models/scaler.pkl')\n",
    "\n",
    "# Make predictions again\n",
    "X_new_scaled = loaded_scaler.transform(X_test)\n",
    "preds = loaded_model.predict(X_new_scaled)\n"
   ]
  },
  {
   "cell_type": "code",
   "execution_count": 53,
   "id": "40d534d1-d4a2-4f0a-876b-fb6f5258e453",
   "metadata": {},
   "outputs": [],
   "source": [
    "# Skip using scaler — use original test data\n",
    "X_new = X_test\n",
    "preds = loaded_model.predict(X_new)\n"
   ]
  },
  {
   "cell_type": "code",
   "execution_count": 54,
   "id": "9d5a6901-66f2-4891-abf8-9cbcc7e68d1b",
   "metadata": {},
   "outputs": [
    {
     "name": "stderr",
     "output_type": "stream",
     "text": [
      "X:\\Installation\\Lib\\site-packages\\sklearn\\utils\\validation.py:2739: UserWarning: X does not have valid feature names, but RandomForestClassifier was fitted with feature names\n",
      "  warnings.warn(\n"
     ]
    }
   ],
   "source": [
    "# Load model and scaler\n",
    "loaded_model = joblib.load('../models/random_forest_model.pkl')\n",
    "loaded_scaler = joblib.load('../models/scaler.pkl')\n",
    "\n",
    "# Make predictions again\n",
    "X_new_scaled = loaded_scaler.transform(X_test)\n",
    "preds = loaded_model.predict(X_new_scaled)\n"
   ]
  },
  {
   "cell_type": "code",
   "execution_count": 55,
   "id": "6bb6e3e4-1006-48ed-b2ee-4401ca84d6c6",
   "metadata": {},
   "outputs": [
    {
     "data": {
      "image/png": "[encoded data removed]",
      "text/plain": [
       "<Figure size 640x480 with 1 Axes>"
      ]
     },
     "metadata": {},
     "output_type": "display_data"
    }
   ],
   "source": [
    "import seaborn as sns\n",
    "import matplotlib.pyplot as plt\n",
    "\n",
    "sns.countplot(x='Churn', data=df)\n",
    "plt.title('Churn Count (0 = No, 1 = Yes)')\n",
    "plt.show()\n"
   ]
  },
  {
   "cell_type": "code",
   "execution_count": 56,
   "id": "eff69d13-df5a-4d25-8a4a-ba46f44c25de",
   "metadata": {},
   "outputs": [
    {
     "data": {
      "image/png": "[encoded data removed]",
      "text/plain": [
       "<Figure size 640x480 with 1 Axes>"
      ]
     },
     "metadata": {},
     "output_type": "display_data"
    }
   ],
   "source": [
    "sns.boxplot(x='Churn', y='MonthlyCharges', data=df)\n",
    "plt.title('Monthly Charges vs Churn')\n",
    "plt.show()\n"
   ]
  },
  {
   "cell_type": "code",
   "execution_count": 57,
   "id": "8177d1a9-08c0-404c-8d77-602cdf2f43f2",
   "metadata": {},
   "outputs": [
    {
     "data": {
      "image/png": "[encoded data removed]",
      "text/plain": [
       "<Figure size 640x480 with 1 Axes>"
      ]
     },
     "metadata": {},
     "output_type": "display_data"
    }
   ],
   "source": [
    "sns.barplot(x='Contract_Two year', y='Churn', data=df)\n",
    "plt.title('Churn Rate for Two Year Contract')\n",
    "plt.show()\n"
   ]
  },
  {
   "cell_type": "code",
   "execution_count": null,
   "id": "92ca732a-146d-4352-b6bf-12b69ecc5bf8",
   "metadata": {},
   "outputs": [],
   "source": []
  }
 ],
 "metadata": {
  "kernelspec": {
   "display_name": "Python 3 (ipykernel)",
   "language": "python",
   "name": "python3"
  },
  "language_info": {
   "codemirror_mode": {
    "name": "ipython",
    "version": 3
   },
   "file_extension": ".py",
   "mimetype": "text/x-python",
   "name": "python",
   "nbconvert_exporter": "python",
   "pygments_lexer": "ipython3",
   "version": "3.13.5"
  }
 },
 "nbformat": 4,
 "nbformat_minor": 5
}
